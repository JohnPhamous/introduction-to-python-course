{
 "cells": [
  {
   "cell_type": "markdown",
   "metadata": {
    "slideshow": {
     "slide_type": "slide"
    }
   },
   "source": [
    "# CS190: Python\n",
    "\n",
    "## Lecture 2: Programming Fundamentals\n",
    "\n",
    "[Accompanying Slides](http\n",
    "s://docs.google.com/pr\n",
    "esentation/d/1_3_8aHFDnGfRCyhZHHCeVudnTjZdcvYYAvh3mDAk7hU/edit?usp=sharing)"
   ]
  },
  {
   "cell_type": "markdown",
   "metadata": {
    "slideshow": {
     "slide_type": "fragment"
    }
   },
   "source": [
    "## Homework\n",
    "\n",
    "Homework 1 is due. You should have a file in your `turnin` folder called `[first_name]_[last_name]_[homework1].ipynb`. Grades/feedback will be released over the weekend."
   ]
  },
  {
   "cell_type": "markdown",
   "metadata": {
    "slideshow": {
     "slide_type": "fragment"
    }
   },
   "source": [
    "## Review\n",
    "\n",
    "Last week we learned:\n",
    "\n",
    "* There are hundreds of programming languages that have died, evolved, and created over the years\n",
    "* How to write the \"Hello World\" program in 2 programming languages\n",
    "* How to write in Markdown"
   ]
  },
  {
   "cell_type": "markdown",
   "metadata": {
    "slideshow": {
     "slide_type": "slide"
    }
   },
   "source": [
    "Learning the fundamentals to programming will enable you to program in nearly any programming language! We've chosen Python for this course due to the wide variety of use cases that can be found online and in publications. Because of that, nearly any problem you run into while programming in Python can be solved by Googling.\n",
    "\n",
    "## Lesson Objectives\n",
    "\n",
    "By the end of this lesson, you will learn:\n",
    "\n",
    "* How to use **mathetical operators**\n",
    "* How to use **variables** to store information\n",
    "* How to use **comments** to document your code\n",
    "* How to use **loops** to do repeated tasks\n",
    "* Write **conditionals** to do actions based on a condition"
   ]
  },
  {
   "cell_type": "markdown",
   "metadata": {},
   "source": [
    "---"
   ]
  },
  {
   "cell_type": "markdown",
   "metadata": {
    "slideshow": {
     "slide_type": "slide"
    }
   },
   "source": [
    "## Mathematical Operators\n",
    "\n",
    "Performing math functions is useful in programming. You can think of a programming language as a glorified calculator. Here's how you can perform some common math operations in Python:"
   ]
  },
  {
   "cell_type": "markdown",
   "metadata": {
    "slideshow": {
     "slide_type": "subslide"
    }
   },
   "source": [
    "* Addition (5 + 5)\n",
    "```python\n",
    "5 + 5\n",
    "```\n",
    "\n",
    "* Subtraction (5 - 5)\n",
    "```python\n",
    "5 - 5\n",
    "```\n",
    "\n",
    "* Multiplication ($5 \\cdot 5$)\n",
    "```python\n",
    "5 * 5\n",
    "```\n",
    "\n",
    "* Division ($\\frac{5}{5}$)\n",
    "```python\n",
    "5 / 5\n",
    "```\n",
    "\n",
    "* Exponentiation ($5^5$)\n",
    "```python\n",
    "5 ** 5\n",
    "```\n",
    "\n",
    "If precedence is needed, you can use parenthesis to dictate the order of the operations.\n",
    "```python\n",
    "(5 * 6) + (5 - (3 + 2)) # Output is: 30 + 0 = 30\n",
    "```"
   ]
  },
  {
   "cell_type": "markdown",
   "metadata": {},
   "source": [
    "[Reference on Python Mathematical Operators](https://www.tutorialspoint.com/python/python_basic_operators.htm)"
   ]
  },
  {
   "cell_type": "markdown",
   "metadata": {
    "slideshow": {
     "slide_type": "slide"
    }
   },
   "source": [
    "### Practice: Mathematical Operators"
   ]
  },
  {
   "cell_type": "markdown",
   "metadata": {
    "slideshow": {
     "slide_type": "fragment"
    }
   },
   "source": [
    "#### Write the following in Python: $5 \\cdot 10$"
   ]
  },
  {
   "cell_type": "code",
   "execution_count": 1,
   "metadata": {
    "slideshow": {
     "slide_type": "fragment"
    }
   },
   "outputs": [
    {
     "data": {
      "text/plain": [
       "50"
      ]
     },
     "execution_count": 1,
     "metadata": {},
     "output_type": "execute_result"
    }
   ],
   "source": [
    "5 * 10"
   ]
  },
  {
   "cell_type": "markdown",
   "metadata": {
    "slideshow": {
     "slide_type": "slide"
    }
   },
   "source": [
    "#### Write the following in Python: $5 \\cdot (5^3 + 10)$"
   ]
  },
  {
   "cell_type": "code",
   "execution_count": 2,
   "metadata": {
    "slideshow": {
     "slide_type": "fragment"
    }
   },
   "outputs": [
    {
     "data": {
      "text/plain": [
       "675"
      ]
     },
     "execution_count": 2,
     "metadata": {},
     "output_type": "execute_result"
    }
   ],
   "source": [
    "5 * (5**3 + 10) "
   ]
  },
  {
   "cell_type": "markdown",
   "metadata": {
    "slideshow": {
     "slide_type": "skip"
    }
   },
   "source": [
    "---"
   ]
  },
  {
   "cell_type": "markdown",
   "metadata": {
    "slideshow": {
     "slide_type": "slide"
    }
   },
   "source": [
    "## Variables\n",
    "\n",
    "Variables allow use to store and access information. This is handy when we calculate a value but won't use it immediately after. Let's look at an example where we store the number 5 into a variable then output the sum between 5 and 6."
   ]
  },
  {
   "cell_type": "code",
   "execution_count": 5,
   "metadata": {
    "slideshow": {
     "slide_type": "fragment"
    }
   },
   "outputs": [
    {
     "name": "stdout",
     "output_type": "stream",
     "text": [
      "11\n"
     ]
    }
   ],
   "source": [
    "x = 5\n",
    "print(x + 6)"
   ]
  },
  {
   "cell_type": "markdown",
   "metadata": {
    "slideshow": {
     "slide_type": "slide"
    }
   },
   "source": [
    "#### Practice: Store the value 10 into a variable y. Then print the output of $y^2 + 15$"
   ]
  },
  {
   "cell_type": "code",
   "execution_count": 2,
   "metadata": {
    "slideshow": {
     "slide_type": "fragment"
    }
   },
   "outputs": [
    {
     "name": "stdout",
     "output_type": "stream",
     "text": [
      "115\n"
     ]
    }
   ],
   "source": [
    "y = 10\n",
    "print(y**2 + 15)"
   ]
  },
  {
   "cell_type": "markdown",
   "metadata": {},
   "source": [
    "### Data Types\n",
    "\n",
    "You can think of a variable as a box. Boxes can be used to store variables and they can labeled so you know what's inside each box. Not all boxes are the same though.\n",
    "\n",
    "In programming languages, there is a concept called data type. A data type is a designation at the hardware level on how information is represented. Some commons types are:\n",
    "\n",
    "* `int`\n",
    "* `double`\n",
    "* `strings`\n",
    "* `characters`\n",
    "\n",
    "For most programming languages, you can't mix data types the same way as you can't compare apples and oranges. Even though both a fruit and have similar properties, they are not the same. Some languages forbid doing operations between different types.\n",
    "\n",
    "Let's try adding a string with an int:"
   ]
  },
  {
   "cell_type": "code",
   "execution_count": 3,
   "metadata": {},
   "outputs": [
    {
     "ename": "TypeError",
     "evalue": "must be str, not int",
     "output_type": "error",
     "traceback": [
      "\u001b[0;31m---------------------------------------------------------------------------\u001b[0m",
      "\u001b[0;31mTypeError\u001b[0m                                 Traceback (most recent call last)",
      "\u001b[0;32m<ipython-input-3-8c092ef518e4>\u001b[0m in \u001b[0;36m<module>\u001b[0;34m()\u001b[0m\n\u001b[1;32m      1\u001b[0m \u001b[0;31m# Adding a string with an int\u001b[0m\u001b[0;34m\u001b[0m\u001b[0;34m\u001b[0m\u001b[0m\n\u001b[1;32m      2\u001b[0m \u001b[0;34m\u001b[0m\u001b[0m\n\u001b[0;32m----> 3\u001b[0;31m \u001b[0mprint\u001b[0m\u001b[0;34m(\u001b[0m\u001b[0;34m\"This is a string\"\u001b[0m \u001b[0;34m+\u001b[0m \u001b[0;36m5\u001b[0m\u001b[0;34m)\u001b[0m\u001b[0;34m\u001b[0m\u001b[0m\n\u001b[0m",
      "\u001b[0;31mTypeError\u001b[0m: must be str, not int"
     ]
    }
   ],
   "source": [
    "# Adding a string with an int\n",
    "\n",
    "print(\"This is a string\" + 5)"
   ]
  },
  {
   "cell_type": "markdown",
   "metadata": {},
   "source": [
    "You can see the error produced when trying to add the two different data types. Most languages, including Python give us the ability to **type cast** values. What is typing casting? It is the operation that changes data in one type to another.\n",
    "\n",
    "Let's rewrite the above example but this time type cast the `int 5` to a `string`."
   ]
  },
  {
   "cell_type": "code",
   "execution_count": 4,
   "metadata": {},
   "outputs": [
    {
     "name": "stdout",
     "output_type": "stream",
     "text": [
      "This is a string5\n"
     ]
    }
   ],
   "source": [
    "# Adding a string with a type casted int\n",
    "\n",
    "print(\"This is a string\" + str(5))"
   ]
  },
  {
   "cell_type": "markdown",
   "metadata": {},
   "source": [
    "In the example above, we type casted the value 5 which was of type `int` to the type `string` by using the `str()` function. There "
   ]
  },
  {
   "cell_type": "markdown",
   "metadata": {},
   "source": [
    "[Type casting reference](http://www.informit.com/articles/article.aspx?p=459269&seqNum=7)"
   ]
  },
  {
   "cell_type": "markdown",
   "metadata": {
    "slideshow": {
     "slide_type": "skip"
    }
   },
   "source": [
    "---"
   ]
  },
  {
   "cell_type": "markdown",
   "metadata": {
    "slideshow": {
     "slide_type": "slide"
    }
   },
   "source": [
    "## Comments\n",
    "\n",
    "Comments are useful when writing code. It is always best to write code in the most descriptive way but in some cases it may not be so obvious. Each language has the capability of writing comments. Comments help you and other people know what's going on with your code.\n",
    "\n",
    "Let's look at an example:"
   ]
  },
  {
   "cell_type": "code",
   "execution_count": 4,
   "metadata": {
    "slideshow": {
     "slide_type": "fragment"
    }
   },
   "outputs": [
    {
     "name": "stdout",
     "output_type": "stream",
     "text": [
      "Sum: 5.5\n"
     ]
    }
   ],
   "source": [
    "# This code caculates the mean of a dataset\n",
    "# stored in the variable data\n",
    "\n",
    "data = [1, 2, 3, 4, 5, 6, 7, 8, 9, 10]\n",
    "\n",
    "sum = 0\n",
    "for d in data:\n",
    "    sum += d\n",
    "print(\"Sum:\", sum / len(data))\n"
   ]
  },
  {
   "cell_type": "markdown",
   "metadata": {
    "slideshow": {
     "slide_type": "fragment"
    }
   },
   "source": [
    "Comments can also be used to temporarily disable some code. This is useful when you are trying to fix your program or want to try a different approach without having to delete your code."
   ]
  },
  {
   "cell_type": "code",
   "execution_count": 11,
   "metadata": {},
   "outputs": [
    {
     "name": "stdout",
     "output_type": "stream",
     "text": [
      "0\n",
      "1\n",
      "2\n",
      "3\n",
      "4\n",
      "5\n",
      "6\n",
      "7\n",
      "8\n",
      "9\n",
      "10\n",
      "The product of 1 to n is:  55\n"
     ]
    }
   ],
   "source": [
    "# This code will output the product of 1 to n\n",
    "\n",
    "n = 10\n",
    "sum = 0\n",
    "\n",
    "# This code outputs the sum 0\n",
    "# for i in range(n):\n",
    "#     print(i)\n",
    "#     sum += sum\n",
    "\n",
    "# This code ouputs a sum but it isn't the right sum\n",
    "# for i in range(n):\n",
    "#     print(i)\n",
    "#     sum += i\n",
    "\n",
    "for i in range(n + 1):\n",
    "    print(i)\n",
    "    sum += i\n",
    "\n",
    "print(\"The product of 1 to n is: \", sum)"
   ]
  },
  {
   "cell_type": "markdown",
   "metadata": {},
   "source": [
    "You can quickly comment/uncomment code by highlighting the text and press `ctrl + /`. Try commenting/uncommenting the code blocks in the above examples to see the differences."
   ]
  },
  {
   "cell_type": "markdown",
   "metadata": {
    "slideshow": {
     "slide_type": "skip"
    }
   },
   "source": [
    "---"
   ]
  },
  {
   "cell_type": "markdown",
   "metadata": {},
   "source": [
    "## Loops\n",
    "\n",
    "Loops are a pretty cool tool to use in programming. Instead of explicitly writing the instruction to perform a task multiple times, you can write it once in a loop.\n",
    "\n",
    "For example, if you wanted to print \"Hello World\" 5 times, you can do it in the following 2 ways:"
   ]
  },
  {
   "cell_type": "code",
   "execution_count": 1,
   "metadata": {
    "slideshow": {
     "slide_type": "fragment"
    }
   },
   "outputs": [
    {
     "name": "stdout",
     "output_type": "stream",
     "text": [
      "Hello World\n",
      "Hello World\n",
      "Hello World\n",
      "Hello World\n",
      "Hello World\n"
     ]
    }
   ],
   "source": [
    "print(\"Hello World\")\n",
    "print(\"Hello World\")\n",
    "print(\"Hello World\")\n",
    "print(\"Hello World\")\n",
    "print(\"Hello World\")"
   ]
  },
  {
   "cell_type": "code",
   "execution_count": 11,
   "metadata": {
    "slideshow": {
     "slide_type": "fragment"
    }
   },
   "outputs": [
    {
     "name": "stdout",
     "output_type": "stream",
     "text": [
      "Hello World\n",
      "Hello World\n",
      "Hello World\n",
      "Hello World\n",
      "Hello World\n"
     ]
    }
   ],
   "source": [
    "for x in range(5):\n",
    "    print(\"Hello World\")"
   ]
  },
  {
   "cell_type": "markdown",
   "metadata": {
    "slideshow": {
     "slide_type": "slide"
    }
   },
   "source": [
    "The first example gets the task done in 5 lines while the second example got it done in 2 lines. What if you want to print \"Hello World\" 100 or 1000 or even 9999 times? If you follow the first example, you would have to write the print instruction up to 9999 times. In the second example, we can just swap out 5 with the number of times we want to print it.\n",
    "\n",
    "Try printing `\"Hello World\"` 10 times using the second example:"
   ]
  },
  {
   "cell_type": "markdown",
   "metadata": {
    "slideshow": {
     "slide_type": "slide"
    }
   },
   "source": []
  },
  {
   "cell_type": "code",
   "execution_count": 4,
   "metadata": {
    "slideshow": {
     "slide_type": "fragment"
    }
   },
   "outputs": [
    {
     "name": "stdout",
     "output_type": "stream",
     "text": [
      "Hello World\n",
      "Hello World\n",
      "Hello World\n",
      "Hello World\n",
      "Hello World\n",
      "Hello World\n",
      "Hello World\n",
      "Hello World\n",
      "Hello World\n",
      "Hello World\n"
     ]
    }
   ],
   "source": [
    "for x in range(10):\n",
    "    print(\"Hello World\")"
   ]
  },
  {
   "cell_type": "markdown",
   "metadata": {
    "slideshow": {
     "slide_type": "slide"
    }
   },
   "source": [
    "So how does this magic happen?\n",
    "\n",
    "```python\n",
    "for x in range(5):\n",
    "    print(\"Hello World\")\n",
    "```\n",
    "\n",
    "The first thing you do is write `for` which tells Python you are intending to write a for loop. Next you declare a variable, in this case it is `x`. This variable stores a counter which starts off at the value of 0. Next you write `in` which means as long as `x` is within the range of `range(5)` the `print(\"Hello World\")` will execute. The `range(5)` tells Python that you want the counter `x` to go up to 5. Everytime `print(\"Hello World\")` is executed, our variable increments.\n",
    "\n",
    "Let's rewrite the loop in plain english:\n",
    "\n",
    "```\n",
    "x is 0, as long as x in the range of 5\n",
    "    print \"Hello World\"\n",
    "    x increments by 1\n",
    "```\n",
    "\n",
    "Let's combine everything we've learned so far. Write a program that calculates $\\sum\\limits_{i=1}^{10} i$"
   ]
  },
  {
   "cell_type": "code",
   "execution_count": 22,
   "metadata": {
    "slideshow": {
     "slide_type": "subslide"
    }
   },
   "outputs": [
    {
     "name": "stdout",
     "output_type": "stream",
     "text": [
      "Sum of 1 through 10 is: 55\n"
     ]
    }
   ],
   "source": [
    "# declare a variable called sum which starts off at 0\n",
    "sum = 0\n",
    "\n",
    "for x in range(11):\n",
    "    sum += x\n",
    "\n",
    "print(\"Sum of 1 through 10 is:\", sum)"
   ]
  },
  {
   "cell_type": "markdown",
   "metadata": {
    "slideshow": {
     "slide_type": "subslide"
    }
   },
   "source": [
    "Why are we using `range(11)` when we just want the sum of 0 through 10?\n",
    "\n",
    "**Computers start counting at 0** and **The range is exclusive for the upper-bound**.\n",
    "\n",
    "Line 4 can be written mathematically as $(0, 11]$. 0 is included by 11 is not so it goes from 0 to 10.\n",
    "\n",
    "---\n",
    "\n",
    "Let's try writing a for loop now. Write a program that calculates $\\sum\\limits_{i=1}^{15} i + 1$"
   ]
  },
  {
   "cell_type": "code",
   "execution_count": null,
   "metadata": {
    "collapsed": true,
    "slideshow": {
     "slide_type": "fragment"
    }
   },
   "outputs": [],
   "source": [
    "sum = 0\n",
    "for x in range(16):\n",
    "    sum = sum + x + 1\n",
    "    # The above line can be rewritten as\n",
    "    # sum += x + 1\n",
    "    # With programming lanauges, there are tons of shortcuts\n",
    "    # to do common actions\n",
    "\n",
    "print(sum)"
   ]
  },
  {
   "cell_type": "markdown",
   "metadata": {},
   "source": [
    "There are other types of loops other than the `for` loop. Some common ones are `while` and `do-while`.\n",
    "\n",
    "[Loops Reference](https://www.tutorialspoint.com/python/python_loops.htm)\n",
    "\n",
    "---"
   ]
  },
  {
   "cell_type": "markdown",
   "metadata": {},
   "source": [
    "## Booleans\n",
    "\n",
    "Booleans is a special type of data type. This type can only have 2 possibilities unlike the other data types that can hold infinitely many options.\n",
    "\n",
    "Booleans can either be `True` or `False`. Booleans are useful when we want to know whether something is true or not.\n",
    "\n",
    "Let's look at an example"
   ]
  },
  {
   "cell_type": "code",
   "execution_count": 2,
   "metadata": {},
   "outputs": [
    {
     "name": "stdout",
     "output_type": "stream",
     "text": [
      "I'm well rested!\n"
     ]
    }
   ],
   "source": [
    "sleptLastNight = True\n",
    "\n",
    "if sleptLastNight:\n",
    "    print(\"I'm well rested!\")\n",
    "else:  \n",
    "    print(\"I should've slept last night\")\n",
    "        "
   ]
  },
  {
   "cell_type": "markdown",
   "metadata": {},
   "source": [
    "Often times we'll want to now if a value is greater, less than, or equal to another value. Just like in math, programming languages have **comparison operators**.\n",
    "\n",
    "Here are some frequently used ones:\n",
    "\n",
    "* `>` Greater than\n",
    "* `>=` Greater or equal to\n",
    "* `<` Less than\n",
    "* `<=` Less than or equal to\n",
    "* `==` Equal\n",
    "* `!=` Not Equal"
   ]
  },
  {
   "cell_type": "code",
   "execution_count": 7,
   "metadata": {},
   "outputs": [
    {
     "name": "stdout",
     "output_type": "stream",
     "text": [
      "True\n",
      "True\n",
      "False\n",
      "True\n",
      "False\n",
      "False\n"
     ]
    }
   ],
   "source": [
    "print(5 > 0)\n",
    "print(5 >= 5)\n",
    "print(5 < 0)\n",
    "print(5 <= 6)\n",
    "print(5 == 6)\n",
    "print(5 != 5)"
   ]
  },
  {
   "cell_type": "markdown",
   "metadata": {},
   "source": [
    "[Comparison Operators Reference](https://www.tutorialspoint.com/python/comparison_operators_example.htm)"
   ]
  },
  {
   "cell_type": "markdown",
   "metadata": {
    "slideshow": {
     "slide_type": "slide"
    }
   },
   "source": [
    "## Conditionals\n",
    "\n",
    "Conditionals allow our program to make smart decisions. It would be cool if our program could perform an action based on a factor. Let's think about a program that prints `\"It's Positive\"` when a number is positive and prints `\"It's Negative\"` when a number is negative.\n",
    "\n",
    "Writing out that program in English looks like:\n",
    "\n",
    "```\n",
    "We have a number x\n",
    "\n",
    "if x is positive\n",
    "    print \"It's Positive\"\n",
    "\n",
    "if x is negative\n",
    "```\n",
    "\n",
    "Translating the English to Python gets you:"
   ]
  },
  {
   "cell_type": "code",
   "execution_count": 3,
   "metadata": {
    "slideshow": {
     "slide_type": "fragment"
    }
   },
   "outputs": [
    {
     "name": "stdout",
     "output_type": "stream",
     "text": [
      "It's Positive\n"
     ]
    }
   ],
   "source": [
    "x = 50\n",
    "\n",
    "if x > 0:\n",
    "    print(\"It's Positive\")\n",
    "if x < 0:\n",
    "    print(\"It's Negative\")"
   ]
  },
  {
   "cell_type": "markdown",
   "metadata": {
    "slideshow": {
     "slide_type": "slide"
    }
   },
   "source": [
    "The above example has x as hard coded. Being hard coded means the value is fixed. What is you want a user to provide input? Let's modify the above example to allow for user input."
   ]
  },
  {
   "cell_type": "code",
   "execution_count": 12,
   "metadata": {
    "slideshow": {
     "slide_type": "fragment"
    }
   },
   "outputs": [
    {
     "name": "stdout",
     "output_type": "stream",
     "text": [
      "10\n",
      "It's Positive\n"
     ]
    }
   ],
   "source": [
    "x = int(input())\n",
    "\n",
    "if x > 0:\n",
    "    print(\"It's Positive\")\n",
    "if x < 0:\n",
    "    print(\"It's Negative\")"
   ]
  },
  {
   "cell_type": "markdown",
   "metadata": {
    "slideshow": {
     "slide_type": "slide"
    }
   },
   "source": [
    "We modified line 1 changing it from `x = 50` to `x = int(input())`. For now, we can disregard what `int()` does and only focus on `input()`. Using `input()` allows you to store whatever the user types in and store it to a variable."
   ]
  },
  {
   "cell_type": "markdown",
   "metadata": {},
   "source": [
    "[Conditionals Reference](https://www.tutorialspoint.com/python/python_decision_making.htm)"
   ]
  },
  {
   "cell_type": "markdown",
   "metadata": {},
   "source": [
    "---"
   ]
  },
  {
   "cell_type": "markdown",
   "metadata": {},
   "source": [
    "## Recap\n",
    "\n",
    "This week we learned about:\n",
    "\n",
    "* Math operators\n",
    "* Variables\n",
    "* Data Types\n",
    "* Comments\n",
    "* Loops\n",
    "* Conditionals\n",
    "\n",
    "These are most of the core building blocks that make up all programs. Mastery of these building blocks will enable you to build sophisicated programs!"
   ]
  },
  {
   "cell_type": "markdown",
   "metadata": {},
   "source": [
    "---"
   ]
  },
  {
   "cell_type": "markdown",
   "metadata": {},
   "source": [
    "## Next Week\n",
    "\n",
    "Next week, we will cover:\n",
    "\n",
    "* User Input/Output\n",
    "  * How do we receive user input?\n",
    "* Functions\n",
    "  * How can we build reusable programs?\n",
    "* Modules\n",
    "  * How can we save time by using other people's code?"
   ]
  },
  {
   "cell_type": "markdown",
   "metadata": {},
   "source": [
    "---"
   ]
  },
  {
   "cell_type": "markdown",
   "metadata": {},
   "source": [
    "## Homework 2\n",
    "\n",
    "This week we learned a lot of material. Don't get overwhelmed! It only gets easier from here once you master these fundamentals. You can work independetly or with a partner on this assignment.\n",
    "\n",
    "For the homework this week, do 1-3:\n",
    "\n",
    "1. Create a new notebook naming it `[netid]_[homework2]`. An example of this is `jpham035_homework2`.\n",
    "2. Create a Markdown cell with the following information:\n",
    "  * A title\n",
    "  * Your name\n",
    "  * Your email\n",
    "  \n",
    "3. Write a program that calculates the tip needed for a meal.\n",
    "\n",
    "  * The tip will be 15% and the total price of the meal is \\$50\n",
    "  * There will also be a generosity value which will be added to your tip after it is calculated\n",
    "  * Your program should first output what the program does\n",
    "  * If the tip is greater than $15 then you will output 'wow that's a huge tip!'\n",
    "  * Lastly, your program will output: 'The total for the meal is [\\$50], a tip at [15%] is [\\$7.50] and I tossed in an extra [y] because of the great service'\n",
    "  \n",
    "  \n",
    "### Tips\n",
    "\n",
    "First write out the program in plain English. Then convert the English program to Python. Remember to use variables in places where the value can change.\n"
   ]
  }
 ],
 "metadata": {
  "kernelspec": {
   "display_name": "Python 3",
   "language": "python",
   "name": "python3"
  },
  "language_info": {
   "codemirror_mode": {
    "name": "ipython",
    "version": 3
   },
   "file_extension": ".py",
   "mimetype": "text/x-python",
   "name": "python",
   "nbconvert_exporter": "python",
   "pygments_lexer": "ipython3",
   "version": "3.6.3"
  }
 },
 "nbformat": 4,
 "nbformat_minor": 2
}
