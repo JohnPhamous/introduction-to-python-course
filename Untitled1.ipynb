{
 "cells": [
  {
   "cell_type": "markdown",
   "metadata": {},
   "source": [
    "# Python Title\n",
    "## John Pham\n",
    "### jpham035"
   ]
  },
  {
   "cell_type": "markdown",
   "metadata": {},
   "source": [
    "```cpp\n",
    "cout << \"Hello World\" << endl;\n",
    "return 0;\n",
    "```\n",
    "\n",
    "```javascript\n",
    "console.log('hello')\n",
    "```\n",
    "cout << \"Hello World\" << endl;\n",
    "return 0;"
   ]
  },
  {
   "cell_type": "code",
   "execution_count": 6,
   "metadata": {},
   "outputs": [
    {
     "name": "stdout",
     "output_type": "stream",
     "text": [
      "15\n",
      "20\n"
     ]
    }
   ],
   "source": [
    "x = 5\n",
    "y = 10\n",
    "\n",
    "z = 5 + 10\n",
    "\n",
    "print(z)\n",
    "x = 10\n",
    "z = x + y\n",
    "print(z)\n",
    "\n",
    "a = \"string\"\n",
    "b = 5\n",
    "\n",
    "a + b\n",
    "\n",
    "b"
   ]
  },
  {
   "cell_type": "code",
   "execution_count": 10,
   "metadata": {
    "collapsed": true
   },
   "outputs": [],
   "source": [
    "# this is a comment\n",
    "# print(\"hello world\")\n",
    "# print(\"hello world\")"
   ]
  },
  {
   "cell_type": "code",
   "execution_count": 33,
   "metadata": {
    "scrolled": false
   },
   "outputs": [
    {
     "name": "stdout",
     "output_type": "stream",
     "text": [
      "Bobo\n",
      "Hello World Bobo!\n",
      "How old are you?\n",
      "18\n",
      "Oh, you are 18 years old.\n",
      "You can drive\n"
     ]
    }
   ],
   "source": [
    "isTired = False\n",
    "\n",
    "# currentGrade = 4\n",
    "\n",
    "# if currentGrade >= 4:\n",
    "#     print(\"I'm stellar\")\n",
    "# elif currentGrade < 4 and currentGrade >= 3:\n",
    "#     print(\"I'm sorta stellar\")\n",
    "# elif currentGrade < 3 and currentGrade >= 2:\n",
    "#     print(\"I'm getting there\")\n",
    "# else:\n",
    "#     print(\"I need help\")\n",
    "\n",
    "# 6 / 2 == 3\n",
    "# 7 % 2 == 1\n",
    "\n",
    "# if currentGrade >= 4:\n",
    "#     print(\"I'm stellar\")\n",
    "# if currentGrade % 3 == 0:\n",
    "#     print(\"My grade is even\")\n",
    "# print(\"x\")\n",
    "# if isTired:\n",
    "#     print(\"I will go to sleep\")\n",
    "# else:\n",
    "#     print(\"I will go on a run\")\n",
    "    \n",
    "# if not isTired:\n",
    "#     print(\"I am hyper\")\n",
    "\n",
    "greeting = \"Hello World\"\n",
    "userName = input()\n",
    "\n",
    "print(greeting + \" \" + userName + \"!\")\n",
    "# print(userName + \", how old are you?\")\n",
    "userAge = int(input(\"How old are you?\\n\"))\n",
    "print(\"Oh, you are \" + str(userAge) + \" years old.\")\n",
    "\n",
    "if userAge >= 18:\n",
    "    print(\"You can drive\")\n",
    "else:\n",
    "    print(\"You are not older enough to drive\")"
   ]
  }
 ],
 "metadata": {
  "kernelspec": {
   "display_name": "Python 3",
   "language": "python",
   "name": "python3"
  },
  "language_info": {
   "codemirror_mode": {
    "name": "ipython",
    "version": 3
   },
   "file_extension": ".py",
   "mimetype": "text/x-python",
   "name": "python",
   "nbconvert_exporter": "python",
   "pygments_lexer": "ipython3",
   "version": "3.6.3"
  }
 },
 "nbformat": 4,
 "nbformat_minor": 2
}
