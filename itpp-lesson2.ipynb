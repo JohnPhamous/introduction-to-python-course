{
 "cells": [
  {
   "cell_type": "markdown",
   "metadata": {
    "slideshow": {
     "slide_type": "slide"
    }
   },
   "source": [
    "# ITPP - Lecture 2: A Practical Introduction to the Python Programming Language"
   ]
  },
  {
   "cell_type": "markdown",
   "metadata": {
    "slideshow": {
     "slide_type": "fragment"
    }
   },
   "source": [
    "## Homework\n",
    "\n",
    "Homework 1 is due."
   ]
  },
  {
   "cell_type": "markdown",
   "metadata": {
    "slideshow": {
     "slide_type": "fragment"
    }
   },
   "source": [
    "## Review\n",
    "\n",
    "Last week we learned:\n",
    "\n",
    "* There are hundreds of programming languages that have died, evolved, and created over the years\n",
    "* How to write the \"Hello World\" program in 2 programming languages"
   ]
  },
  {
   "cell_type": "markdown",
   "metadata": {
    "slideshow": {
     "slide_type": "skip"
    }
   },
   "source": [
    "---"
   ]
  },
  {
   "cell_type": "markdown",
   "metadata": {
    "slideshow": {
     "slide_type": "slide"
    }
   },
   "source": [
    "# Introduction to Programming Concepts II & Python I\n",
    "\n",
    "Learning the fundamentals to programming will enable you to program in nearly any programming language! We've chosen Python for this course due to the wide variety of use cases that can be found online and in publications. Because of that, nearly any problem you run into while programming in Python can be solved by Googling.\n",
    "\n",
    "## Lesson Objectives\n",
    "\n",
    "By the end of this lesson, you will learn:\n",
    "\n",
    "* How to use **mathetical operators**\n",
    "* How to use **variables** to store information\n",
    "* How to use **comments** to document your code\n",
    "* How to use **loops** to do repeated tasks\n",
    "* Write **conditionals** to do actions based on a condition"
   ]
  },
  {
   "cell_type": "markdown",
   "metadata": {
    "slideshow": {
     "slide_type": "skip"
    }
   },
   "source": [
    "---"
   ]
  },
  {
   "cell_type": "markdown",
   "metadata": {
    "slideshow": {
     "slide_type": "slide"
    }
   },
   "source": [
    "## Mathematical Operators\n",
    "\n",
    "Performing math functions is useful in programming. You can think of a programming language as a glorified calculator. Here's how you can perform some common math operations in Python:"
   ]
  },
  {
   "cell_type": "markdown",
   "metadata": {
    "slideshow": {
     "slide_type": "subslide"
    }
   },
   "source": [
    "* Addition (5 + 5)\n",
    "```python\n",
    "5 + 5\n",
    "```\n",
    "\n",
    "* Subtraction (5 - 5)\n",
    "```python\n",
    "5 - 5\n",
    "```\n",
    "\n",
    "* Multiplication ($5 \\cdot 5$)\n",
    "```python\n",
    "5 * 5\n",
    "```\n",
    "\n",
    "* Division ($\\frac{5}{5}$)\n",
    "```python\n",
    "5 / 5\n",
    "```\n",
    "\n",
    "* Exponentiation ($5^5$)\n",
    "```python\n",
    "5 ** 5\n",
    "```\n",
    "\n",
    "If precedence is needed, you can use parenthesis to dictate the order of the operations.\n",
    "```python\n",
    "(5 * 6) + (5 - (3 + 2)) # Output is: 30 + 0 = 30\n",
    "```"
   ]
  },
  {
   "cell_type": "markdown",
   "metadata": {
    "slideshow": {
     "slide_type": "slide"
    }
   },
   "source": [
    "### Practice: Mathematical Operators"
   ]
  },
  {
   "cell_type": "markdown",
   "metadata": {
    "slideshow": {
     "slide_type": "fragment"
    }
   },
   "source": [
    "#### Write the following in Python: $5 \\cdot 10$"
   ]
  },
  {
   "cell_type": "code",
   "execution_count": 1,
   "metadata": {
    "slideshow": {
     "slide_type": "fragment"
    }
   },
   "outputs": [
    {
     "data": {
      "text/plain": [
       "50"
      ]
     },
     "execution_count": 1,
     "metadata": {},
     "output_type": "execute_result"
    }
   ],
   "source": [
    "5 * 10"
   ]
  },
  {
   "cell_type": "markdown",
   "metadata": {
    "slideshow": {
     "slide_type": "slide"
    }
   },
   "source": [
    "#### Write the following in Python: $5 \\cdot (5^3 + 10)$"
   ]
  },
  {
   "cell_type": "code",
   "execution_count": 2,
   "metadata": {
    "slideshow": {
     "slide_type": "fragment"
    }
   },
   "outputs": [
    {
     "data": {
      "text/plain": [
       "675"
      ]
     },
     "execution_count": 2,
     "metadata": {},
     "output_type": "execute_result"
    }
   ],
   "source": [
    "5 * (5**3 + 10) "
   ]
  },
  {
   "cell_type": "markdown",
   "metadata": {
    "slideshow": {
     "slide_type": "skip"
    }
   },
   "source": [
    "---"
   ]
  },
  {
   "cell_type": "markdown",
   "metadata": {
    "slideshow": {
     "slide_type": "slide"
    }
   },
   "source": [
    "## Variables\n",
    "\n",
    "Variables allow use to store and access information. This is handy when we calculate a value but won't use it immediately after. Let's look at an example where we store the number 5 into a variable then output the sum between 5 and 6."
   ]
  },
  {
   "cell_type": "code",
   "execution_count": 5,
   "metadata": {
    "slideshow": {
     "slide_type": "fragment"
    }
   },
   "outputs": [
    {
     "name": "stdout",
     "output_type": "stream",
     "text": [
      "11\n"
     ]
    }
   ],
   "source": [
    "x = 5\n",
    "print(x + 6)"
   ]
  },
  {
   "cell_type": "markdown",
   "metadata": {
    "slideshow": {
     "slide_type": "slide"
    }
   },
   "source": [
    "#### Practice: Store the value 10 into a variable y. Then print the output of $y^2 + 15$"
   ]
  },
  {
   "cell_type": "code",
   "execution_count": 3,
   "metadata": {
    "slideshow": {
     "slide_type": "fragment"
    }
   },
   "outputs": [
    {
     "name": "stdout",
     "output_type": "stream",
     "text": [
      "115\n"
     ]
    }
   ],
   "source": [
    "y = 10\n",
    "print(y**2 + 15)"
   ]
  },
  {
   "cell_type": "markdown",
   "metadata": {
    "slideshow": {
     "slide_type": "skip"
    }
   },
   "source": [
    "---"
   ]
  },
  {
   "cell_type": "markdown",
   "metadata": {
    "slideshow": {
     "slide_type": "slide"
    }
   },
   "source": [
    "## Comments\n",
    "\n",
    "Comments are useful when writing code. It is always best to write code in the most descriptive way but in some cases it may not be so obvious. Each language has the capability of writing comments. Comments help you and other people know what's going on with your code.\n",
    "\n",
    "Let's look at an example:"
   ]
  },
  {
   "cell_type": "code",
   "execution_count": 4,
   "metadata": {
    "slideshow": {
     "slide_type": "fragment"
    }
   },
   "outputs": [
    {
     "name": "stdout",
     "output_type": "stream",
     "text": [
      "Sum: 5.5\n"
     ]
    }
   ],
   "source": [
    "# This code caculates the mean of a dataset stored in the variable data\n",
    "\n",
    "data = [1, 2, 3, 4, 5, 6, 7, 8, 9, 10]\n",
    "\n",
    "sum = 0\n",
    "for d in data:\n",
    "    sum += d\n",
    "print(\"Sum:\", sum / len(data))\n"
   ]
  },
  {
   "cell_type": "markdown",
   "metadata": {
    "slideshow": {
     "slide_type": "fragment"
    }
   },
   "source": [
    "Comments can also be used to temporarily disable some code. This is useful when you are trying to fix your program or want to try a different approach without having to delete your code."
   ]
  },
  {
   "cell_type": "markdown",
   "metadata": {
    "slideshow": {
     "slide_type": "skip"
    }
   },
   "source": [
    "---"
   ]
  },
  {
   "cell_type": "markdown",
   "metadata": {
    "slideshow": {
     "slide_type": "slide"
    }
   },
   "source": [
    "## Loops\n",
    "\n",
    "Loops are a pretty cool tool to use in programming. Instead of explicitly writing the instruction to perform a task multiple times, you can write it once in a loop.\n",
    "\n",
    "For example, if you wanted to print \"Hello World\" 5 times, you can do it in the following 2 ways:"
   ]
  },
  {
   "cell_type": "code",
   "execution_count": 8,
   "metadata": {
    "slideshow": {
     "slide_type": "fragment"
    }
   },
   "outputs": [
    {
     "name": "stdout",
     "output_type": "stream",
     "text": [
      "Hello World\n",
      "Hello World\n",
      "Hello World\n",
      "Hello World\n",
      "Hello World\n"
     ]
    }
   ],
   "source": [
    "print(\"Hello World\")\n",
    "print(\"Hello World\")\n",
    "print(\"Hello World\")\n",
    "print(\"Hello World\")\n",
    "print(\"Hello World\")"
   ]
  },
  {
   "cell_type": "code",
   "execution_count": 11,
   "metadata": {
    "slideshow": {
     "slide_type": "fragment"
    }
   },
   "outputs": [
    {
     "name": "stdout",
     "output_type": "stream",
     "text": [
      "Hello World\n",
      "Hello World\n",
      "Hello World\n",
      "Hello World\n",
      "Hello World\n"
     ]
    }
   ],
   "source": [
    "for x in range(5):\n",
    "    print(\"Hello World\")"
   ]
  },
  {
   "cell_type": "markdown",
   "metadata": {
    "slideshow": {
     "slide_type": "slide"
    }
   },
   "source": [
    "The first example gets the task done in 5 lines while the second example got it done in 2 lines. What if you want to print \"Hello World\" 100 or 1000 or even 9999 times? If you follow the first example, you would have to write the print instruction up to 9999 times. In the second example, we can just swap out 5 with the number of times we want to print it.\n",
    "\n",
    "Try printing `\"Hello World\"` 10 times using the second example:"
   ]
  },
  {
   "cell_type": "code",
   "execution_count": 4,
   "metadata": {
    "slideshow": {
     "slide_type": "fragment"
    }
   },
   "outputs": [
    {
     "name": "stdout",
     "output_type": "stream",
     "text": [
      "Hello World\n",
      "Hello World\n",
      "Hello World\n",
      "Hello World\n",
      "Hello World\n",
      "Hello World\n",
      "Hello World\n",
      "Hello World\n",
      "Hello World\n",
      "Hello World\n"
     ]
    }
   ],
   "source": [
    "for x in range(10):\n",
    "    print(\"Hello World\")"
   ]
  },
  {
   "cell_type": "markdown",
   "metadata": {
    "slideshow": {
     "slide_type": "slide"
    }
   },
   "source": [
    "So how does this magic happen?\n",
    "\n",
    "```python\n",
    "for x in range(5):\n",
    "    print(\"Hello World\")\n",
    "```\n",
    "\n",
    "The first thing you do is write `for` which tells Python you are intending to write a for loop. Next you declare a variable, in this case it is `x`. This variable stores a counter which starts off at the value of 0. Next you write `in` which means as long as `x` is within the range of `range(5)` the `print(\"Hello World\")` will execute. The `range(5)` tells Python that you want the counter `x` to go up to 5. Everytime `print(\"Hello World\")` is executed, our variable increments.\n",
    "\n",
    "Let's rewrite the loop in plain english:\n",
    "\n",
    "```\n",
    "x is 0, as long as x in the range of 5\n",
    "    print \"Hello World\"\n",
    "    x increments by 1\n",
    "```\n",
    "\n",
    "Let's combine everything we've learned so far. Write a program that calculates $\\sum\\limits_{i=1}^{10} i$"
   ]
  },
  {
   "cell_type": "code",
   "execution_count": 22,
   "metadata": {
    "slideshow": {
     "slide_type": "subslide"
    }
   },
   "outputs": [
    {
     "name": "stdout",
     "output_type": "stream",
     "text": [
      "Sum of 1 through 10 is: 55\n"
     ]
    }
   ],
   "source": [
    "# declare a variable called sum which starts off at 0\n",
    "sum = 0\n",
    "\n",
    "for x in range(11):\n",
    "    sum += x\n",
    "\n",
    "print(\"Sum of 1 through 10 is:\", sum)"
   ]
  },
  {
   "cell_type": "markdown",
   "metadata": {
    "slideshow": {
     "slide_type": "subslide"
    }
   },
   "source": [
    "Why are we using `range(11)` when we just want the sum of 0 through 10?\n",
    "\n",
    "**Computers start counting at 0** and **The range is exclusive for the upper-bound**.\n",
    "\n",
    "Line 4 can be written mathematically as $(0, 11]$. 0 is included by 11 is not so it goes from 0 to 10.\n",
    "\n",
    "---\n",
    "\n",
    "Let's try writing a for loop now. Write a program that calculates $\\sum\\limits_{i=1}^{15} i + 1$"
   ]
  },
  {
   "cell_type": "code",
   "execution_count": 8,
   "metadata": {
    "slideshow": {
     "slide_type": "fragment"
    }
   },
   "outputs": [
    {
     "name": "stdout",
     "output_type": "stream",
     "text": [
      "136\n"
     ]
    }
   ],
   "source": [
    "sum = 0\n",
    "for x in range(16):\n",
    "    sum += x + 1\n",
    "\n",
    "print(sum)"
   ]
  },
  {
   "cell_type": "markdown",
   "metadata": {
    "slideshow": {
     "slide_type": "skip"
    }
   },
   "source": [
    "---"
   ]
  },
  {
   "cell_type": "markdown",
   "metadata": {
    "slideshow": {
     "slide_type": "slide"
    }
   },
   "source": [
    "## Conditionals\n",
    "\n",
    "Conditionals allow our program to make smart decisions. It would be cool if our program could perform an action based on a factor. Let's think about a program that prints `\"It's Positive\"` when a number is positive and prints `\"It's Negative\"` when a number is negative.\n",
    "\n",
    "Writing out that program in English looks like:\n",
    "\n",
    "```\n",
    "We have a number x\n",
    "\n",
    "if x is positive\n",
    "    print \"It's Positive\"\n",
    "\n",
    "if x is negative\n",
    "```\n",
    "\n",
    "Translating the English to Python gets you:"
   ]
  },
  {
   "cell_type": "code",
   "execution_count": 3,
   "metadata": {
    "slideshow": {
     "slide_type": "fragment"
    }
   },
   "outputs": [
    {
     "name": "stdout",
     "output_type": "stream",
     "text": [
      "It's Positive\n"
     ]
    }
   ],
   "source": [
    "x = 50\n",
    "\n",
    "if x > 0:\n",
    "    print(\"It's Positive\")\n",
    "if x < 0:\n",
    "    print(\"It's Negative\")"
   ]
  },
  {
   "cell_type": "markdown",
   "metadata": {
    "slideshow": {
     "slide_type": "slide"
    }
   },
   "source": [
    "The above example has x as hard coded. Being hard coded means the value is fixed. What is you want a user to provide input? Let's modify the above example to allow for user input."
   ]
  },
  {
   "cell_type": "code",
   "execution_count": 7,
   "metadata": {
    "slideshow": {
     "slide_type": "fragment"
    }
   },
   "outputs": [
    {
     "name": "stdout",
     "output_type": "stream",
     "text": [
      "-5\n",
      "It's Negative\n"
     ]
    }
   ],
   "source": [
    "x = int(input())\n",
    "\n",
    "if x > 0:\n",
    "    print(\"It's Positive\")\n",
    "if x < 0:\n",
    "    print(\"It's Negative\")"
   ]
  },
  {
   "cell_type": "markdown",
   "metadata": {
    "slideshow": {
     "slide_type": "slide"
    }
   },
   "source": [
    "We modified line 1 changing it from `x = 50` to `x = int(input())`. For now, we can disregard what `int()` does and only focus on `input()`. Using `input()` allows you to store whatever the user types in and store it to a variable."
   ]
  },
  {
   "cell_type": "markdown",
   "metadata": {},
   "source": [
    "---"
   ]
  },
  {
   "cell_type": "markdown",
   "metadata": {},
   "source": [
    "## Recap"
   ]
  },
  {
   "cell_type": "markdown",
   "metadata": {},
   "source": [
    "---"
   ]
  },
  {
   "cell_type": "markdown",
   "metadata": {},
   "source": [
    "## Next Week"
   ]
  },
  {
   "cell_type": "markdown",
   "metadata": {},
   "source": [
    "---"
   ]
  },
  {
   "cell_type": "markdown",
   "metadata": {},
   "source": [
    "## Homework"
   ]
  }
 ],
 "metadata": {
  "celltoolbar": "Slideshow",
  "kernelspec": {
   "display_name": "Python 3",
   "language": "python",
   "name": "python3"
  },
  "language_info": {
   "codemirror_mode": {
    "name": "ipython",
    "version": 3
   },
   "file_extension": ".py",
   "mimetype": "text/x-python",
   "name": "python",
   "nbconvert_exporter": "python",
   "pygments_lexer": "ipython3",
   "version": "3.6.3"
  }
 },
 "nbformat": 4,
 "nbformat_minor": 2
}
