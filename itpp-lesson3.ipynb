{
 "cells": [
  {
   "cell_type": "markdown",
   "metadata": {},
   "source": [
    "# ITPP - Lecture 3\n",
    "A Practical Introduction to the Python Programming Language\n",
    "\n",
    "[Accompanying Slides](https://docs.google.com/presentation/d/1l0IfjVGRi0tW1-8ZuSPUuQ21wHpb_RT8tQ-OhmdeDBk/edit?usp=sharing)"
   ]
  },
  {
   "cell_type": "markdown",
   "metadata": {},
   "source": [
    "# Homework\n",
    "\n",
    "Homework 2 is due"
   ]
  },
  {
   "cell_type": "markdown",
   "metadata": {},
   "source": [
    "# Review\n",
    "\n",
    "Last week we learned about:\n",
    "\n",
    "* Math operators\n",
    "* Variables\n",
    "* Comments\n",
    "* Loops\n",
    "* Booleans/comparison operations\n",
    "* Conditionals\n",
    "\n",
    "These are the fundamental building blocks to programming. Any application you use can be broken down to these core building blocks.\n",
    "\n",
    "---\n",
    "\n",
    "Let's take a look at Facebook.\n",
    "\n",
    "## Authentication\n",
    "\n",
    "``` if userIsNotSignedIn then\n",
    "    show signIn page\n",
    "else\n",
    "    show home page\n",
    "```\n",
    "\n",
    "Signing in can be as simple as using a **conditional**. Once the user is logged in, how do we store their information? **Variables**!\n",
    "\n",
    "## Displaying the News Feed\n",
    "\n",
    "So the news feed _repeatedly_ shows news items from different users. It shows text and images. We learned last lecture that there are different **data types**. The text is represented as **strings** and for now let's consider images as their own type.\n",
    "\n",
    "Now the news feed is doing the same action over and over. This is the perfect place to use *loops*.\n",
    "\n",
    "Let's look at how this might be done. For this example, we'll be using a data structure called an [array but also called lists in Python](https://www.tutorialspoint.com/python/python_lists.htm). Arrays are able to store multiple items compared to variables only being able to store a single item at a time."
   ]
  },
  {
   "cell_type": "code",
   "execution_count": 1,
   "metadata": {},
   "outputs": [
    {
     "name": "stdout",
     "output_type": "stream",
     "text": [
      "Enjoying Break!!\n",
      "Trying to learn new hobbies\n",
      "Finally finished reading my book!\n",
      "Anyone hear of Bitcoin?\n"
     ]
    }
   ],
   "source": [
    "newsFeed = [\n",
    "    'Enjoying Break!!',\n",
    "    'Trying to learn new hobbies',\n",
    "    'Finally finished reading my book!',\n",
    "    'Anyone hear of Bitcoin?'\n",
    "]\n",
    "\n",
    "for news in newsFeed:\n",
    "    print(news)"
   ]
  },
  {
   "cell_type": "markdown",
   "metadata": {},
   "source": [
    "## Being Friends with Someone\n",
    "\n",
    "There's over 2 billion users on Facebook\\*. You are not friends with all of them so how can you keep track? **Booleans** and **conditionals**!.\n",
    "\n",
    "If you're friends with someone then you'll be able to see their updates and vice versa. Let's look at how this might look like in code."
   ]
  },
  {
   "cell_type": "code",
   "execution_count": 2,
   "metadata": {},
   "outputs": [
    {
     "name": "stdout",
     "output_type": "stream",
     "text": [
      "Permission Denied\n"
     ]
    }
   ],
   "source": [
    "# There are 2 users in our social network\n",
    "# Alice and Bob\n",
    "\n",
    "bobUpdates = [\n",
    "    'Exploring California for the next month!',\n",
    "    'Finally learned how to juggle!'\n",
    "]\n",
    "\n",
    "aliceAndBobAreFriends = False\n",
    "\n",
    "if aliceAndBobAreFriends == True:\n",
    "    for update in bobUpdates:\n",
    "        print(update)\n",
    "else:\n",
    "    print('Permission Denied')"
   ]
  },
  {
   "cell_type": "markdown",
   "metadata": {},
   "source": [
    "Looks like Alice isn't friends with Bob. Try switching `aliceAndBobAreFriends` to `True` and see what happens.\n",
    "\n",
    "---"
   ]
  },
  {
   "cell_type": "markdown",
   "metadata": {},
   "source": [
    "## Lesson 3 Objectives\n",
    "\n",
    "* How to do user input so you program can be dynamic\n",
    "* How to create functions to make reusable code\n",
    "* How to use modules to save time when programming\n",
    "\n",
    "---"
   ]
  },
  {
   "cell_type": "markdown",
   "metadata": {},
   "source": [
    "## User Input\n",
    "\n",
    "So far our programs have been receiving data by what is called **hard coding** the values. This works fine but what if we want to change the value each time the program is ran?\n",
    "\n",
    "We could:\n",
    "\n",
    "1. Open the program\n",
    "2. Rewrite the value\n",
    "3. Save the program\n",
    "4. Run the program\n",
    "\n",
    "That's a lot of work. **User input** and **variables** can save us tons of time! \n",
    "\n",
    "Here's what the process would be with using user input and variables:\n",
    "\n",
    "1. Create a variable to hold the value\n",
    "2. Run the program\n",
    "3. The value get's updated when the program is ran\n",
    "\n",
    "Note the above _only has to be done once_ compared to the previous process where you have to do it everytime you want to change a value.\n",
    "\n",
    "Let's look at two examples using both methods. The goal of the program is to compare 2 numbers, `x` and `y` and see if `x > y`."
   ]
  },
  {
   "cell_type": "code",
   "execution_count": null,
   "metadata": {},
   "outputs": [
    {
     "name": "stdout",
     "output_type": "stream",
     "text": [
      "False\n"
     ]
    }
   ],
   "source": [
    "# Hard coding the value\n",
    "# If we want to change x and y, we'd have to edit the program every time\n",
    "\n",
    "print(5 > 10)"
   ]
  },
  {
   "cell_type": "code",
   "execution_count": null,
   "metadata": {},
   "outputs": [
    {
     "name": "stdout",
     "output_type": "stream",
     "text": [
      "Enter a number for x: 5\n"
     ]
    }
   ],
   "source": [
    "# Using user input\n",
    "\n",
    "x = input(\"Enter a number for x: \")\n",
    "y = input(\"Enter a number for y: \")\n",
    "\n",
    "print(x > y)"
   ]
  },
  {
   "cell_type": "markdown",
   "metadata": {},
   "source": [
    "### The `input()` function\n",
    "\n",
    "`input()` is a built in function for Python. It allows you to provide a prompt that the user can respond to. The user's response is then stored into a variable.\n",
    "\n",
    "Let's see a modifed version of the Hello World program. This time instead of just outputting `Hello World`, we want to output `Hello {name}`."
   ]
  },
  {
   "cell_type": "code",
   "execution_count": null,
   "metadata": {
    "collapsed": true
   },
   "outputs": [],
   "source": [
    "# Modifed Hello World Program\n",
    "\n",
    "userName = input(\"What is your name? \")\n",
    "\n",
    "# We will concatenate strings to produce the output\n",
    "print(\"Hello \" + userName + \"!\")"
   ]
  },
  {
   "cell_type": "markdown",
   "metadata": {},
   "source": [
    "---"
   ]
  },
  {
   "cell_type": "markdown",
   "metadata": {},
   "source": [
    "## Functions\n",
    "\n",
    "Functions allow us to group together our code. You have been using functions since day 1!. `print()` and `input()` are both functions.\n",
    "\n",
    "Just like loops, functions allow us to reduce copying and pasting code. Let's look at an example."
   ]
  },
  {
   "cell_type": "code",
   "execution_count": null,
   "metadata": {
    "collapsed": true
   },
   "outputs": [],
   "source": [
    "def helloWorld():\n",
    "    print(\"Hello World\")\n",
    "    print(\"Hola Mundo\")\n",
    "    print(\"Bonjour Le Monde\")\n",
    "    \n",
    "helloWorld()"
   ]
  },
  {
   "cell_type": "markdown",
   "metadata": {},
   "source": [
    "So what did we just do?\n",
    "\n",
    "We `defined` a function called `helloWorld`. The function calls `print()` 3 times. Afterwards we call `helloWorld()`. Let's rewrite the program in English:\n",
    "\n",
    "```\n",
    "define helloWorld\n",
    "    print(\"Hello World\")\n",
    "    print(\"Hola Mundo\")\n",
    "    print(\"Bonjour Le Monde\")\n",
    "```\n",
    "\n",
    "This brings up a good point, we can nest functions within one another! This allows our code to be even more flexible.\n",
    "\n",
    "## Parameters\n",
    "\n",
    "What are the `()` for? We've seen that with `print()` we can put a string inside of the `()` and it will output that string. We call that string an **argument**.  We can pass in an argument and the function will be able to use that value.\n",
    "\n",
    "Refer back to math class with math functions. Programming functions are nearly identical to math functions.\n",
    "\n",
    "Given this math function:\n",
    "\n",
    "$$ f(x) = x^2 + 5 $$\n",
    "\n",
    "The function is named `f` and the argument is called `x`. If we have $ x = 2 $ then the result is 9.\n",
    "\n",
    "Let's rewrite this in Python."
   ]
  },
  {
   "cell_type": "code",
   "execution_count": null,
   "metadata": {
    "collapsed": true
   },
   "outputs": [],
   "source": [
    "def f(x):\n",
    "    print((x ** 2) + 5)\n",
    "\n",
    "f(2)"
   ]
  },
  {
   "cell_type": "markdown",
   "metadata": {},
   "source": [
    "First we defined the function called f and said it will accept an argument called x. Then inside that function it executes the math equation.\n",
    "\n",
    "Once the function is declared, we can call it and pass in a parameter."
   ]
  },
  {
   "cell_type": "markdown",
   "metadata": {},
   "source": [
    "Just like math functions, functions can have multiple parameters. Take a look at this function:\n",
    "\n",
    "$$ g(x, y) = x^2 + y + 2 $$\n",
    "\n",
    "$$ g(2, 2) = 8 $$"
   ]
  },
  {
   "cell_type": "code",
   "execution_count": null,
   "metadata": {
    "collapsed": true
   },
   "outputs": [],
   "source": [
    "def g(x, y):\n",
    "    print((x ** 2) + y + 2)\n",
    "\n",
    "g(2, 2)"
   ]
  },
  {
   "cell_type": "markdown",
   "metadata": {},
   "source": [
    "[Functions Reference](https://www.tutorialspoint.com/python/python_functions.htm)\n",
    "\n",
    "---"
   ]
  },
  {
   "cell_type": "markdown",
   "metadata": {},
   "source": [
    "## Modules\n",
    "\n",
    "Modules are programs written by others that are distributed to aid you in developing your programs. Think of modules as buying a cake mix to bake a cake compared to growing the wheat, sugar, and chocolate.\n",
    "\n",
    "There are TONS of modules for Python out there. There are modules that are for machine learning, data visualization, and even converting speech to text!\n",
    "\n",
    "Let's try using a module. We've seen that Python supports some basic math operations. What if we want to take a derivative? The absolute value? The sine? \n",
    "\n",
    "We could write our own functions where we define the steps or use a module that has done that very thing for us."
   ]
  },
  {
   "cell_type": "code",
   "execution_count": null,
   "metadata": {
    "collapsed": true
   },
   "outputs": [],
   "source": [
    "# Using the math library to do complex math operations\n",
    "\n",
    "import math\n",
    "\n",
    "# calculate the sine value\n",
    "print(math.sin(2))\n",
    "\n",
    "# calculate the absolute value\n",
    "print(math.fabs(-5))"
   ]
  },
  {
   "cell_type": "markdown",
   "metadata": {},
   "source": [
    "We imported the `math` module and then used the `sin()`  and `fabs()` function from that module. Functions that are imported from a module can be called be preprending the function with the module name.\n",
    "\n",
    "We'll be taking a look at more modules in the rest of the course. If you're interested in diving in now these are some pretty awesome modules\n",
    "\n",
    "* [PyGame](http://www.pygame.org/docs/) Allows you to make games in Python\n",
    "* [Requests](https://pypi.python.org/pypi/requests) Allows you to make access websites with Python\n",
    "* [Matplotlib](https://matplotlib.org/) Allows you make graphs and charts\n",
    "* [TensorFlow](https://www.tensorflow.org/) Do machine learning without knowing the math!\n",
    "\n",
    "---"
   ]
  },
  {
   "cell_type": "markdown",
   "metadata": {},
   "source": [
    "# Homework 3\n",
    "\n",
    "1. Create a new notebook naming it `[firstname]_[lastname]_[homework3]`. An example of this is `[john]_[pham]_[homework3]`.\n",
    "2. Create a Markdown cell with the following information:\n",
    "  * A title\n",
    "  * Your name\n",
    "  * Your email\n",
    "3. Write a program that checks if the user is old enough to drive. The user will enter their age and if they're under 18, you will output 'You are not old enough to drive'. If they're 18 or older, you will output, 'Drive Safely'! __Try to use functions where you see fit.__\n",
    "4. Find a new Python module that interests you. An easy way to find one is do a Google search for a particular action you want to do. If you wanted to send emails with Python, a good Google query would be, 'Python module send emails'. Create a new markdown cell and provide a link to the module and give a brief description on what it does."
   ]
  }
 ],
 "metadata": {
  "kernelspec": {
   "display_name": "Python 3",
   "language": "python",
   "name": "python3"
  },
  "language_info": {
   "codemirror_mode": {
    "name": "ipython",
    "version": 3
   },
   "file_extension": ".py",
   "mimetype": "text/x-python",
   "name": "python",
   "nbconvert_exporter": "python",
   "pygments_lexer": "ipython3",
   "version": "3.6.3"
  }
 },
 "nbformat": 4,
 "nbformat_minor": 2
}
