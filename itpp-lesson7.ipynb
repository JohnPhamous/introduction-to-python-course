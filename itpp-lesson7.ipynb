{
 "cells": [
  {
   "cell_type": "markdown",
   "metadata": {},
   "source": [
    "# ITPP - Lecture 7"
   ]
  },
  {
   "cell_type": "markdown",
   "metadata": {},
   "source": [
    "## Homework 6\n",
    "\n",
    "How are the projects going? Any questions? Still looking for team members or projects to join?"
   ]
  },
  {
   "cell_type": "markdown",
   "metadata": {},
   "source": [
    "## Review\n",
    "\n",
    "* Creating GUI components using `ipywidgets`\n",
    "\n",
    "## Lesson 7 Objectives\n",
    "\n",
    "We've covered a lot up to this point in the course. We'll be spending this week revisiting what we've learned to solidify our understanding of the core concepts of programming.\n",
    "\n",
    "Yall should be proud! We have covered what it takes a typical CS major 3 quarters to learn in under 7 weeks."
   ]
  },
  {
   "cell_type": "markdown",
   "metadata": {},
   "source": [
    "## Comments\n",
    "\n",
    "Comments in Python are created by prepending text with `#`. Comments are useful for quick debugging and commenting on what our code does. Comments do not get translated to code."
   ]
  },
  {
   "cell_type": "code",
   "execution_count": 6,
   "metadata": {
    "collapsed": true
   },
   "outputs": [],
   "source": [
    "# I'm a comment!\n",
    "# print(\"Hello!\")\n",
    "# why isn't it printing??"
   ]
  },
  {
   "cell_type": "markdown",
   "metadata": {},
   "source": [
    "## Variables"
   ]
  },
  {
   "cell_type": "markdown",
   "metadata": {},
   "source": [
    "Variables allow us to store information and access them later on in our program"
   ]
  },
  {
   "cell_type": "code",
   "execution_count": 1,
   "metadata": {
    "collapsed": true
   },
   "outputs": [],
   "source": [
    "x = 5 # float\n",
    "y = 'I\\'m a string!'\n",
    "z = 5.023 # float"
   ]
  },
  {
   "cell_type": "markdown",
   "metadata": {},
   "source": [
    "## Data Types\n",
    "\n",
    "Computers store different types of information in different ways. These different ways are called types. When programming, we need to pay attention when we're doing operations with different types."
   ]
  },
  {
   "cell_type": "code",
   "execution_count": 9,
   "metadata": {},
   "outputs": [
    {
     "name": "stdout",
     "output_type": "stream",
     "text": [
      "Hello, my name is Bobo and I am 19.\n"
     ]
    }
   ],
   "source": [
    "age = 19\n",
    "greeting = 'Hello, my name is Bobo and I am'\n",
    "\n",
    "# print(greeting + age) # gives us a TypeError\n",
    "# print(greeting + str(age)) # converts the number to the string type, it's missing a space though\n",
    "\n",
    "print(\n",
    "    greeting +\n",
    "      \" \" + \n",
    "      str(age) + # type casting an int to a string\n",
    "      \".\"\n",
    ")\n",
    "\n",
    "# \"adding\" strings together is called string concatenation"
   ]
  },
  {
   "cell_type": "markdown",
   "metadata": {},
   "source": [
    "## Loops\n",
    "\n",
    "Loops allow us to repeat a task multiple times. There are 2 types of loops you will see/use over and over.\n",
    "\n",
    "* `for` loops\n",
    "* `while` loops\n",
    "\n",
    "Let's print the numbers starting from 0 to 100."
   ]
  },
  {
   "cell_type": "code",
   "execution_count": 10,
   "metadata": {},
   "outputs": [
    {
     "name": "stdout",
     "output_type": "stream",
     "text": [
      "0\n",
      "1\n",
      "2\n",
      "3\n"
     ]
    }
   ],
   "source": [
    "print(0)\n",
    "print(1)\n",
    "print(2)\n",
    "print(3)\n",
    "# ...\n",
    "# you can see the pattern here\n",
    "# what if we wanted to print up to 1000?\n",
    "# we're gonna be here for awhile"
   ]
  },
  {
   "cell_type": "code",
   "execution_count": 12,
   "metadata": {
    "scrolled": true
   },
   "outputs": [
    {
     "name": "stdout",
     "output_type": "stream",
     "text": [
      "0\n",
      "1\n",
      "2\n",
      "3\n",
      "4\n",
      "5\n",
      "6\n",
      "7\n",
      "8\n",
      "9\n",
      "10\n",
      "11\n",
      "12\n",
      "13\n",
      "14\n",
      "15\n",
      "16\n",
      "17\n",
      "18\n",
      "19\n",
      "20\n",
      "21\n",
      "22\n",
      "23\n",
      "24\n",
      "25\n",
      "26\n",
      "27\n",
      "28\n",
      "29\n",
      "30\n",
      "31\n",
      "32\n",
      "33\n",
      "34\n",
      "35\n",
      "36\n",
      "37\n",
      "38\n",
      "39\n",
      "40\n",
      "41\n",
      "42\n",
      "43\n",
      "44\n",
      "45\n",
      "46\n",
      "47\n",
      "48\n",
      "49\n",
      "50\n",
      "51\n",
      "52\n",
      "53\n",
      "54\n",
      "55\n",
      "56\n",
      "57\n",
      "58\n",
      "59\n",
      "60\n",
      "61\n",
      "62\n",
      "63\n",
      "64\n",
      "65\n",
      "66\n",
      "67\n",
      "68\n",
      "69\n",
      "70\n",
      "71\n",
      "72\n",
      "73\n",
      "74\n",
      "75\n",
      "76\n",
      "77\n",
      "78\n",
      "79\n",
      "80\n",
      "81\n",
      "82\n",
      "83\n",
      "84\n",
      "85\n",
      "86\n",
      "87\n",
      "88\n",
      "89\n",
      "90\n",
      "91\n",
      "92\n",
      "93\n",
      "94\n",
      "95\n",
      "96\n",
      "97\n",
      "98\n",
      "99\n"
     ]
    }
   ],
   "source": [
    "# i is a variable used to keep track of the current iteration\n",
    "for i in range(100):\n",
    "    print(i)"
   ]
  },
  {
   "cell_type": "code",
   "execution_count": 14,
   "metadata": {},
   "outputs": [
    {
     "name": "stdout",
     "output_type": "stream",
     "text": [
      "3\n",
      "4\n",
      "5\n",
      "6\n",
      "7\n",
      "8\n",
      "9\n",
      "10\n",
      "11\n",
      "12\n",
      "13\n",
      "14\n"
     ]
    }
   ],
   "source": [
    "# how about 3 - 15?\n",
    "for i in range(3, 15):\n",
    "    print(i)\n",
    "# wait it only went up to 14? We wanted up to 15.\n",
    "# this is a matter or inclusive/exlusive bounds\n",
    "# the variable i will go up until the number 15 but never hit 15\n",
    "\n",
    "# what change do we need to make it go up to 15?"
   ]
  },
  {
   "cell_type": "code",
   "execution_count": 16,
   "metadata": {
    "scrolled": true
   },
   "outputs": [
    {
     "name": "stdout",
     "output_type": "stream",
     "text": [
      "0\n",
      "1\n",
      "2\n",
      "3\n",
      "4\n",
      "5\n",
      "6\n",
      "7\n",
      "8\n",
      "9\n",
      "10\n",
      "11\n",
      "12\n",
      "13\n",
      "14\n",
      "15\n",
      "16\n",
      "17\n",
      "18\n",
      "19\n",
      "20\n",
      "21\n",
      "22\n",
      "23\n",
      "24\n",
      "25\n",
      "26\n",
      "27\n",
      "28\n",
      "29\n",
      "30\n",
      "31\n",
      "32\n",
      "33\n",
      "34\n",
      "35\n",
      "36\n",
      "37\n",
      "38\n",
      "39\n",
      "40\n",
      "41\n",
      "42\n",
      "43\n",
      "44\n",
      "45\n",
      "46\n",
      "47\n",
      "48\n",
      "49\n",
      "50\n",
      "51\n",
      "52\n",
      "53\n",
      "54\n",
      "55\n",
      "56\n",
      "57\n",
      "58\n",
      "59\n",
      "60\n",
      "61\n",
      "62\n",
      "63\n",
      "64\n",
      "65\n",
      "66\n",
      "67\n",
      "68\n",
      "69\n",
      "70\n",
      "71\n",
      "72\n",
      "73\n",
      "74\n",
      "75\n",
      "76\n",
      "77\n",
      "78\n",
      "79\n",
      "80\n",
      "81\n",
      "82\n",
      "83\n",
      "84\n",
      "85\n",
      "86\n",
      "87\n",
      "88\n",
      "89\n",
      "90\n",
      "91\n",
      "92\n",
      "93\n",
      "94\n",
      "95\n",
      "96\n",
      "97\n",
      "98\n",
      "99\n",
      "100\n"
     ]
    }
   ],
   "source": [
    "# let's print from 0 to 100\n",
    "\n",
    "i = 0\n",
    "\n",
    "while i <= 100:\n",
    "    print(i)\n",
    "    \n",
    "# there's a problem here, what is it?\n",
    "\n",
    "\n",
    "# we don't want infinite loops!b\n",
    "\n",
    "\n",
    "# so the variable i will always be less than 100, we need to manually update it\n",
    "# while i <= 100:\n",
    "#     print(i)\n",
    "#     i += 1"
   ]
  },
  {
   "cell_type": "markdown",
   "metadata": {},
   "source": [
    "## Booleans\n",
    "\n",
    "Booleans is another data type but can only be represented as `true` or `false`. They are useful for loops and conditionals."
   ]
  },
  {
   "cell_type": "code",
   "execution_count": 19,
   "metadata": {},
   "outputs": [
    {
     "name": "stdout",
     "output_type": "stream",
     "text": [
      "Running job #5\n",
      "Running job #4\n",
      "Running job #3\n",
      "Running job #2\n",
      "Running job #1\n"
     ]
    }
   ],
   "source": [
    "run = True\n",
    "\n",
    "while run:\n",
    "    print('Running...')\n",
    "    \n",
    "# again this is a problem, what kind of fix can we do?\n",
    "\n",
    "# jobs = 5\n",
    "\n",
    "# while run:\n",
    "#     print('Running job #' + str(jobs))\n",
    "#     jobs -= 1\n",
    "    \n",
    "#     if jobs == 0:\n",
    "#         run = False"
   ]
  },
  {
   "cell_type": "markdown",
   "metadata": {},
   "source": [
    "## Conditionals\n",
    "\n",
    "Conditionals allow us to check if a condition is true or false. Depending on the condition, we can do a different action."
   ]
  },
  {
   "cell_type": "code",
   "execution_count": 21,
   "metadata": {},
   "outputs": [
    {
     "name": "stdout",
     "output_type": "stream",
     "text": [
      "Stellar!\n"
     ]
    }
   ],
   "source": [
    "gpa = 3.2\n",
    "\n",
    "if gpa >= 3.0:\n",
    "    print('Stellar!')\n",
    "else:\n",
    "    print('You\\'re almost there!')"
   ]
  },
  {
   "cell_type": "markdown",
   "metadata": {},
   "source": [
    "* If an `if` condition fails, the `else` action will run\n",
    "* if we want to check multiple conditions then fallback to else if nothing else matches, then we can use `elif`"
   ]
  },
  {
   "cell_type": "code",
   "execution_count": 23,
   "metadata": {},
   "outputs": [
    {
     "name": "stdout",
     "output_type": "stream",
     "text": [
      "You have an A!\n"
     ]
    }
   ],
   "source": [
    "gpa = 3.8\n",
    "\n",
    "if gpa >= 3.8:\n",
    "    print('You have an A!')\n",
    "elif gpa >= 3.2:\n",
    "    print('You have a B!')\n",
    "else:\n",
    "    print('Idk what grade you have')"
   ]
  },
  {
   "cell_type": "markdown",
   "metadata": {},
   "source": [
    "## User Input\n",
    "\n",
    "We can use the `input()` function to ask for the user for input. The user's input will then be stored into a variable. We can pass in a string to `input()` so it provides a prompt for the user."
   ]
  },
  {
   "cell_type": "code",
   "execution_count": 24,
   "metadata": {},
   "outputs": [
    {
     "name": "stdout",
     "output_type": "stream",
     "text": [
      "What is your name?Bobo\n",
      "Bobo\n"
     ]
    }
   ],
   "source": [
    "username = input('What is your name?')\n",
    "print(username)"
   ]
  },
  {
   "cell_type": "markdown",
   "metadata": {},
   "source": [
    "## First Checkpoint: User Authentication\n",
    "\n",
    "We've just reviewed a lot, let's take a pause and see how everything comes together. Let's write code for a website's user authentication."
   ]
  },
  {
   "cell_type": "code",
   "execution_count": 26,
   "metadata": {},
   "outputs": [
    {
     "name": "stdout",
     "output_type": "stream",
     "text": [
      "Welcome to !Facebook.com, please sign in\n",
      "Username: Bobo\n",
      "Password: 123456\n",
      "Welcome to !Facebook.com!\n"
     ]
    }
   ],
   "source": [
    "# user data\n",
    "username = 'Bobo'\n",
    "password = '123456' # DO NOT have this as your actual password\n",
    "\n",
    "# authentication status\n",
    "validUsername = False\n",
    "validPassword = False\n",
    "authenticated = False\n",
    "\n",
    "# start of auth system\n",
    "print('Welcome to !Facebook.com, please sign in')\n",
    "input_username = input('Username: ')\n",
    "\n",
    "if input_username == username:\n",
    "    validUsername = True\n",
    "\n",
    "input_password = input('Password: ')\n",
    "\n",
    "if input_password == password:\n",
    "    validPassword = True\n",
    "    \n",
    "if validUsername and validPassword:\n",
    "    print('Welcome to !Facebook.com!')\n",
    "    authenticated = True\n",
    "else:\n",
    "    print('Invalid username or password')\n",
    "    authenticated = False"
   ]
  },
  {
   "cell_type": "markdown",
   "metadata": {},
   "source": [
    "## Functions\n",
    "\n",
    "Functions allow us to group together code to perform an action. Instead of repeatedly typing out the same lines of code together, we can put that code into a function and simply call that function."
   ]
  },
  {
   "cell_type": "code",
   "execution_count": 27,
   "metadata": {},
   "outputs": [
    {
     "name": "stdout",
     "output_type": "stream",
     "text": [
      "Hello!\n",
      "Hello Bobo\n"
     ]
    }
   ],
   "source": [
    "def greet():\n",
    "    print('Hello!')\n",
    "\n",
    "# we can also pass in arguments to change up what our functions do\n",
    "\n",
    "def greet2(name):\n",
    "    print('Hello ' + name)\n",
    "\n",
    "greet()\n",
    "greet2('Bobo')"
   ]
  },
  {
   "cell_type": "markdown",
   "metadata": {},
   "source": [
    "## Lists\n",
    "\n",
    "Lists allow us to group together relevant data and store it under a single variable. This solves the problem with over creating variables."
   ]
  },
  {
   "cell_type": "code",
   "execution_count": 28,
   "metadata": {},
   "outputs": [
    {
     "name": "stdout",
     "output_type": "stream",
     "text": [
      "Bobo\n",
      "Anna\n",
      "Jill\n",
      "Bobo\n",
      "Anna\n",
      "Jill\n"
     ]
    }
   ],
   "source": [
    "# let's store a class worth of student names\n",
    "\n",
    "student1 = 'Bobo'\n",
    "student2 = 'Anna'\n",
    "student3 = 'Jill'\n",
    "\n",
    "# you see what's going on here? We need to create a new variable for each student\n",
    "\n",
    "students = ['Bobo', 'Anna', 'Jill']\n",
    "\n",
    "# to access each student, we need to index the list\n",
    "\n",
    "print(students[0])\n",
    "print(students[1])\n",
    "print(students[2])\n",
    "\n",
    "# or iterate through them with a loop\n",
    "\n",
    "for i in students:\n",
    "    print(i)"
   ]
  },
  {
   "cell_type": "markdown",
   "metadata": {},
   "source": [
    "## File Output\n",
    "\n",
    "Some situations requires us to store data into a file. Why is this useful?"
   ]
  },
  {
   "cell_type": "code",
   "execution_count": 29,
   "metadata": {
    "collapsed": true
   },
   "outputs": [],
   "source": [
    "outputFile = open('data.txt', 'w')\n",
    "outputFile.write('This is some very important data')\n",
    "outputFile.close()\n",
    "\n",
    "# open up the terminal to check your newly created file!"
   ]
  },
  {
   "cell_type": "markdown",
   "metadata": {},
   "source": [
    "## File Input\n",
    "So we've created a file, how can we read a file?"
   ]
  },
  {
   "cell_type": "code",
   "execution_count": 31,
   "metadata": {},
   "outputs": [
    {
     "name": "stdout",
     "output_type": "stream",
     "text": [
      "This is some very important data\n"
     ]
    }
   ],
   "source": [
    "dataFile = open('data.txt')\n",
    "print(dataFile.read())\n",
    "dataFile.close()"
   ]
  },
  {
   "cell_type": "markdown",
   "metadata": {},
   "source": [
    "With file input and output we simply follow this pattern:\n",
    "\n",
    "* Open/create the file\n",
    "* Read/write to the file\n",
    "* Close the file"
   ]
  },
  {
   "cell_type": "markdown",
   "metadata": {},
   "source": [
    "## Homework 7\n",
    "\n",
    "Keep working on your open ended projects! Let me know if you need any help either via email or the FB group.\n",
    "\n",
    "-JP"
   ]
  }
 ],
 "metadata": {
  "kernelspec": {
   "display_name": "Python 3",
   "language": "python",
   "name": "python3"
  },
  "language_info": {
   "codemirror_mode": {
    "name": "ipython",
    "version": 3
   },
   "file_extension": ".py",
   "mimetype": "text/x-python",
   "name": "python",
   "nbconvert_exporter": "python",
   "pygments_lexer": "ipython3",
   "version": "3.6.3"
  }
 },
 "nbformat": 4,
 "nbformat_minor": 2
}
